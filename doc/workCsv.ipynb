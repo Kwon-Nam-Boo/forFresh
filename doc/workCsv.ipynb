{
 "cells": [
  {
   "cell_type": "code",
   "execution_count": 92,
   "metadata": {
    "scrolled": true
   },
   "outputs": [
    {
     "name": "stderr",
     "output_type": "stream",
     "text": [
      "100%|██████████████████████████████████████████████████████████████████████████████████| 25/25 [00:03<00:00,  6.85it/s]\n"
     ]
    }
   ],
   "source": [
    "# csv 합치기\n",
    "import csv\n",
    "import random\n",
    "import os\n",
    "from tqdm import tqdm\n",
    "import re\n",
    " \n",
    "os.chdir(\"C:/ssafy/test1/real\")\n",
    "#category = ['스낵','쿠키','초콜릿','젤리']\n",
    "# category = ['라면','면류','통조림','밀가루','시리얼','오트밀','설탕','소금','조미료','장류','떡','빵','즉석밥','간편조리식']\n",
    "#category = ['생수','탄산수','주스_과즙음료','청량_탄산음료']\n",
    "#category = ['우유','두유','요구르트','치즈','생크림','마가린','버터']\n",
    "category = ['돼지고기', '쇠고기', '닭고기', '알류', '축산가공', '생선', '김_해초','해산물','젓갈','건어물', '아이스크림_빙수',\n",
    "'냉동_간편','쌀', '잡곡_혼합곡', '과일', '채소','견과류','반찬', '김치','음료','차류',\n",
    "'커피','유제품','과자','가공식품']\n",
    "\n",
    "# category = ['final']\n",
    " \n",
    "file_unity = open('final.csv', 'w', encoding='utf-8', newline='')\n",
    "wcsv = csv.writer(file_unity)\n",
    " \n",
    "count = 0\n",
    " \n",
    "for category_element in tqdm(category):\n",
    "    file = open(category_element+'.csv', 'r', encoding='utf-8', newline='')\n",
    "    line = csv.reader(file)\n",
    "    try:\n",
    "        for line_text in line:\n",
    "            li = line_text[0]\n",
    "            p = re.compile('[.\\d]+(?:EA|ea|mL|ML|mg|kg|ml|q.s.|K|ui|KG|G|Kg|cm|개입|세트|팩|L|%|개|박스|입|OZ|BOX|Box|m|M|g|종|캔|box|마리|등급|장|알|판|봉|장|인분|과|주|인용|구|미|통|호|년산|년|곡|원|병|펫|oz)')\n",
    "            z = p.findall(li)\n",
    "            for z1 in z:\n",
    "                li = li.replace(z1, \"\",1)\n",
    "            li = li.replace(\"[\",\"\")\n",
    "            li = li.replace(\"]\",\"\")\n",
    "            patt = re.compile('(\\s*)x(\\s*)')\n",
    "            li = patt.sub('', li)\n",
    "            patt = re.compile('(\\s*)X(\\s*)')\n",
    "            li = patt.sub('', li)\n",
    "            patt = re.compile('(\\s*)BOX(\\s*)')\n",
    "            li = patt.sub('', li)\n",
    "            patt = re.compile('(\\s*)/(\\s*)')\n",
    "            li = patt.sub('', li)\n",
    "            wcsv.writerow([li, line_text[1]])\n",
    "    except:\n",
    "        pass\n",
    "    file.close()\n",
    "file_unity.close()\n",
    "\n",
    " "
   ]
  },
  {
   "cell_type": "code",
   "execution_count": 20,
   "metadata": {},
   "outputs": [],
   "source": [
    "file.close()"
   ]
  },
  {
   "cell_type": "code",
   "execution_count": 93,
   "metadata": {},
   "outputs": [
    {
     "name": "stderr",
     "output_type": "stream",
     "text": [
      "302025it [00:00, 436732.99it/s]\n"
     ]
    }
   ],
   "source": [
    "# csv 섞기(셔플)\n",
    "file = open('final.csv', 'r', encoding='utf-8')\n",
    "line = file.readlines()\n",
    "random.shuffle(line)\n",
    "rcsv = csv.reader(line)\n",
    " \n",
    "file_write = open('fs.csv', 'w', newline='')\n",
    "wcsv = csv.writer(file_write)\n",
    " \n",
    "for i in tqdm(rcsv):\n",
    "    try:\n",
    "        wcsv.writerow([i[0], i[1]])\n",
    "    except:\n",
    "        pass\n",
    "file.close()\n",
    "file_write.close()"
   ]
  },
  {
   "cell_type": "code",
   "execution_count": 32,
   "metadata": {},
   "outputs": [],
   "source": []
  },
  {
   "cell_type": "code",
   "execution_count": null,
   "metadata": {},
   "outputs": [],
   "source": []
  }
 ],
 "metadata": {
  "kernelspec": {
   "display_name": "Python 3",
   "language": "python",
   "name": "python3"
  },
  "language_info": {
   "codemirror_mode": {
    "name": "ipython",
    "version": 3
   },
   "file_extension": ".py",
   "mimetype": "text/x-python",
   "name": "python",
   "nbconvert_exporter": "python",
   "pygments_lexer": "ipython3",
   "version": "3.8.3"
  }
 },
 "nbformat": 4,
 "nbformat_minor": 4
}
