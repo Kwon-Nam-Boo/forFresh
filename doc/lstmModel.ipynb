{
 "cells": [
  {
   "cell_type": "code",
   "execution_count": 30,
   "metadata": {},
   "outputs": [],
   "source": [
    "from tensorflow.keras.models import Sequential\n",
    "from tensorflow.keras.layers import Dense, LSTM, Embedding\n",
    "from tensorflow.keras.preprocessing.sequence import pad_sequences\n",
    "from tensorflow.keras.utils import to_categorical\n",
    "from tensorflow.keras.callbacks import EarlyStopping, ModelCheckpoint\n",
    "from tensorflow.keras.models import load_model\n",
    "import numpy as np\n",
    "import pandas as pd\n",
    "%matplotlib inline\n",
    "import matplotlib.pyplot as plt\n",
    "import urllib.request\n",
    "from tensorflow.keras.preprocessing.text import Tokenizer\n",
    "import os\n",
    "from tqdm import tqdm\n",
    "import csv\n",
    "import operator"
   ]
  },
  {
   "cell_type": "code",
   "execution_count": 31,
   "metadata": {},
   "outputs": [],
   "source": [
    "# 파일 읽기(모든 상품데이터가 셔플된 csv) \n",
    "os.chdir(\"C:/ssafy/test1/real\") \n",
    "file = open('fs.csv', 'r')\n",
    "data = pd.read_csv(file)\n",
    "data=data.astype(str)"
   ]
  },
  {
   "cell_type": "code",
   "execution_count": 32,
   "metadata": {},
   "outputs": [
    {
     "data": {
      "text/html": [
       "<div>\n",
       "<style scoped>\n",
       "    .dataframe tbody tr th:only-of-type {\n",
       "        vertical-align: middle;\n",
       "    }\n",
       "\n",
       "    .dataframe tbody tr th {\n",
       "        vertical-align: top;\n",
       "    }\n",
       "\n",
       "    .dataframe thead th {\n",
       "        text-align: right;\n",
       "    }\n",
       "</style>\n",
       "<table border=\"1\" class=\"dataframe\">\n",
       "  <thead>\n",
       "    <tr style=\"text-align: right;\">\n",
       "      <th></th>\n",
       "      <th>식품</th>\n",
       "      <th>종류</th>\n",
       "    </tr>\n",
       "  </thead>\n",
       "  <tbody>\n",
       "    <tr>\n",
       "      <th>0</th>\n",
       "      <td>제과 해태제과 해태</td>\n",
       "      <td>과자</td>\n",
       "    </tr>\n",
       "    <tr>\n",
       "      <th>1</th>\n",
       "      <td>디저뜨와 브라우니 타르트</td>\n",
       "      <td>가공식품</td>\n",
       "    </tr>\n",
       "    <tr>\n",
       "      <th>2</th>\n",
       "      <td>소화가잘되는우유</td>\n",
       "      <td>유제품</td>\n",
       "    </tr>\n",
       "    <tr>\n",
       "      <th>3</th>\n",
       "      <td>종가집 백열무물김치</td>\n",
       "      <td>김치</td>\n",
       "    </tr>\n",
       "    <tr>\n",
       "      <th>4</th>\n",
       "      <td>밀가루 곰표 포대 고급 g</td>\n",
       "      <td>가공식품</td>\n",
       "    </tr>\n",
       "  </tbody>\n",
       "</table>\n",
       "</div>"
      ],
      "text/plain": [
       "               식품    종류\n",
       "0      제과 해태제과 해태    과자\n",
       "1   디저뜨와 브라우니 타르트  가공식품\n",
       "2        소화가잘되는우유   유제품\n",
       "3      종가집 백열무물김치    김치\n",
       "4  밀가루 곰표 포대 고급 g  가공식품"
      ]
     },
     "execution_count": 32,
     "metadata": {},
     "output_type": "execute_result"
    }
   ],
   "source": [
    "data[:5]"
   ]
  },
  {
   "cell_type": "code",
   "execution_count": 33,
   "metadata": {},
   "outputs": [
    {
     "name": "stdout",
     "output_type": "stream",
     "text": [
      "총 샘플의 수 : 301978\n"
     ]
    }
   ],
   "source": [
    "# 상품데이터 \n",
    "print('총 샘플의 수 :',len(data))"
   ]
  },
  {
   "cell_type": "code",
   "execution_count": 34,
   "metadata": {},
   "outputs": [],
   "source": [
    "# 상품종류를 특정 idx로 바꿔준다\n",
    "data['종류'] = data['종류'].replace(['돼지고기', '쇠고기', '닭고기', '알류', '축산가공식품', '생선', '김/해초','해산물/어패류','젓갈','건어물','아이스크림/빙수',\n",
    "                                 '냉동/간편조리식품','쌀', '잡곡/혼합곡', '과일', '채소','견과류','반찬','김치','음료','차류','커피','유제품','과자','가공식품' ],[0,1,2,3,4,5,6,7,8,9,10,11,12,13,14,15,16,17,18,19,20,21,22,23,24])"
   ]
  },
  {
   "cell_type": "code",
   "execution_count": 35,
   "metadata": {},
   "outputs": [
    {
     "data": {
      "text/html": [
       "<div>\n",
       "<style scoped>\n",
       "    .dataframe tbody tr th:only-of-type {\n",
       "        vertical-align: middle;\n",
       "    }\n",
       "\n",
       "    .dataframe tbody tr th {\n",
       "        vertical-align: top;\n",
       "    }\n",
       "\n",
       "    .dataframe thead th {\n",
       "        text-align: right;\n",
       "    }\n",
       "</style>\n",
       "<table border=\"1\" class=\"dataframe\">\n",
       "  <thead>\n",
       "    <tr style=\"text-align: right;\">\n",
       "      <th></th>\n",
       "      <th>식품</th>\n",
       "      <th>종류</th>\n",
       "    </tr>\n",
       "  </thead>\n",
       "  <tbody>\n",
       "    <tr>\n",
       "      <th>0</th>\n",
       "      <td>제과 해태제과 해태</td>\n",
       "      <td>23</td>\n",
       "    </tr>\n",
       "    <tr>\n",
       "      <th>1</th>\n",
       "      <td>디저뜨와 브라우니 타르트</td>\n",
       "      <td>24</td>\n",
       "    </tr>\n",
       "    <tr>\n",
       "      <th>2</th>\n",
       "      <td>소화가잘되는우유</td>\n",
       "      <td>22</td>\n",
       "    </tr>\n",
       "    <tr>\n",
       "      <th>3</th>\n",
       "      <td>종가집 백열무물김치</td>\n",
       "      <td>18</td>\n",
       "    </tr>\n",
       "    <tr>\n",
       "      <th>4</th>\n",
       "      <td>밀가루 곰표 포대 고급 g</td>\n",
       "      <td>24</td>\n",
       "    </tr>\n",
       "    <tr>\n",
       "      <th>5</th>\n",
       "      <td>매일 뼈로가는 고칼슘두유밥대용음료 밥</td>\n",
       "      <td>22</td>\n",
       "    </tr>\n",
       "    <tr>\n",
       "      <th>6</th>\n",
       "      <td>동원 양반죽양반김 도시락김 8매단팥 쇠고기 야채 참</td>\n",
       "      <td>11</td>\n",
       "    </tr>\n",
       "    <tr>\n",
       "      <th>7</th>\n",
       "      <td>대용량 식자재 701양조간장12</td>\n",
       "      <td>24</td>\n",
       "    </tr>\n",
       "    <tr>\n",
       "      <th>8</th>\n",
       "      <td>트로피카나 오렌지 주스2 코스트코</td>\n",
       "      <td>19</td>\n",
       "    </tr>\n",
       "    <tr>\n",
       "      <th>9</th>\n",
       "      <td>set 호로록 버터칼</td>\n",
       "      <td>22</td>\n",
       "    </tr>\n",
       "    <tr>\n",
       "      <th>10</th>\n",
       "      <td>오뚜기 오뚜기 리얼치즈라면 간식용라면 맛있는</td>\n",
       "      <td>24</td>\n",
       "    </tr>\n",
       "    <tr>\n",
       "      <th>11</th>\n",
       "      <td>순천만 함초자염소금</td>\n",
       "      <td>24</td>\n",
       "    </tr>\n",
       "    <tr>\n",
       "      <th>12</th>\n",
       "      <td>스테비아 효소설탕  에리스리톨</td>\n",
       "      <td>24</td>\n",
       "    </tr>\n",
       "    <tr>\n",
       "      <th>13</th>\n",
       "      <td>CF57농심 백산수 음료수도매20PET</td>\n",
       "      <td>19</td>\n",
       "    </tr>\n",
       "    <tr>\n",
       "      <th>14</th>\n",
       "      <td>알찬마루 숙성썰은김치</td>\n",
       "      <td>18</td>\n",
       "    </tr>\n",
       "    <tr>\n",
       "      <th>15</th>\n",
       "      <td>레이지 레몬즙  레몬농축액 레몬원액 레</td>\n",
       "      <td>19</td>\n",
       "    </tr>\n",
       "    <tr>\n",
       "      <th>16</th>\n",
       "      <td>고등어캔삼포4</td>\n",
       "      <td>24</td>\n",
       "    </tr>\n",
       "    <tr>\n",
       "      <th>17</th>\n",
       "      <td>말통  매콤한맛 양념 쉐프원 소스 치킨</td>\n",
       "      <td>24</td>\n",
       "    </tr>\n",
       "    <tr>\n",
       "      <th>18</th>\n",
       "      <td>맥반석 단백질 식품 훈제 구운 계란</td>\n",
       "      <td>3</td>\n",
       "    </tr>\n",
       "    <tr>\n",
       "      <th>19</th>\n",
       "      <td>등니노 신선한 두유피</td>\n",
       "      <td>24</td>\n",
       "    </tr>\n",
       "    <tr>\n",
       "      <th>20</th>\n",
       "      <td>식당 업소 식재료 고춧가루</td>\n",
       "      <td>24</td>\n",
       "    </tr>\n",
       "    <tr>\n",
       "      <th>21</th>\n",
       "      <td>맛소금</td>\n",
       "      <td>24</td>\n",
       "    </tr>\n",
       "    <tr>\n",
       "      <th>22</th>\n",
       "      <td>안동참마돼지 무항생제 암돼지 1+등급 앞다리살</td>\n",
       "      <td>0</td>\n",
       "    </tr>\n",
       "    <tr>\n",
       "      <th>23</th>\n",
       "      <td>아폴로   옛날과자 추억의과자 문방구 간식</td>\n",
       "      <td>23</td>\n",
       "    </tr>\n",
       "    <tr>\n",
       "      <th>24</th>\n",
       "      <td>1+1오뚜기 옛날자른당면</td>\n",
       "      <td>24</td>\n",
       "    </tr>\n",
       "    <tr>\n",
       "      <th>25</th>\n",
       "      <td>망미치즈케익</td>\n",
       "      <td>24</td>\n",
       "    </tr>\n",
       "    <tr>\n",
       "      <th>26</th>\n",
       "      <td>신라면 신라면블랙사발 두부김치16</td>\n",
       "      <td>24</td>\n",
       "    </tr>\n",
       "    <tr>\n",
       "      <th>27</th>\n",
       "      <td>브렐렛 모짜렐라 -카우20.11.7일 유통기한냉장</td>\n",
       "      <td>22</td>\n",
       "    </tr>\n",
       "    <tr>\n",
       "      <th>28</th>\n",
       "      <td>식재료 첵스초코시리얼켈로그</td>\n",
       "      <td>24</td>\n",
       "    </tr>\n",
       "    <tr>\n",
       "      <th>29</th>\n",
       "      <td>메밀국수  식자재 업소용 음식점 재료 식당5</td>\n",
       "      <td>24</td>\n",
       "    </tr>\n",
       "    <tr>\n",
       "      <th>30</th>\n",
       "      <td>Organic 히에즐넛 버터 8 oz</td>\n",
       "      <td>22</td>\n",
       "    </tr>\n",
       "    <tr>\n",
       "      <th>31</th>\n",
       "      <td>맛있다고 소문난 꿀당도 산사과</td>\n",
       "      <td>14</td>\n",
       "    </tr>\n",
       "    <tr>\n",
       "      <th>32</th>\n",
       "      <td>도토리 책 도서 민음사</td>\n",
       "      <td>16</td>\n",
       "    </tr>\n",
       "    <tr>\n",
       "      <th>33</th>\n",
       "      <td>집에서 길러먹는 국산 콩나물콩</td>\n",
       "      <td>13</td>\n",
       "    </tr>\n",
       "    <tr>\n",
       "      <th>34</th>\n",
       "      <td>CJ 제일제당 백설 스팸 클래식</td>\n",
       "      <td>24</td>\n",
       "    </tr>\n",
       "    <tr>\n",
       "      <th>35</th>\n",
       "      <td>청정원 집으로ON 수비드 닭가슴살 허브갈릭</td>\n",
       "      <td>24</td>\n",
       "    </tr>\n",
       "    <tr>\n",
       "      <th>36</th>\n",
       "      <td>틈밀베이커리비건 카카오스콘</td>\n",
       "      <td>23</td>\n",
       "    </tr>\n",
       "    <tr>\n",
       "      <th>37</th>\n",
       "      <td>비건 냉동 삼육김치가마솥직화볶음밥  SD 2A6E16</td>\n",
       "      <td>24</td>\n",
       "    </tr>\n",
       "    <tr>\n",
       "      <th>38</th>\n",
       "      <td>모노링크 멘보샤</td>\n",
       "      <td>11</td>\n",
       "    </tr>\n",
       "    <tr>\n",
       "      <th>39</th>\n",
       "      <td>무청시래기 국내산  삶은 무우청 시래기 효능 요리 양구시래기</td>\n",
       "      <td>15</td>\n",
       "    </tr>\n",
       "    <tr>\n",
       "      <th>40</th>\n",
       "      <td>영자마켓오뚜기 옥수수 마아가린</td>\n",
       "      <td>22</td>\n",
       "    </tr>\n",
       "    <tr>\n",
       "      <th>41</th>\n",
       "      <td>국수 담백한 맛의 웰빙 2 도토리  먹거리</td>\n",
       "      <td>24</td>\n",
       "    </tr>\n",
       "    <tr>\n",
       "      <th>42</th>\n",
       "      <td>안심반찬바지락젓</td>\n",
       "      <td>8</td>\n",
       "    </tr>\n",
       "    <tr>\n",
       "      <th>43</th>\n",
       "      <td>위드코리a1019오뚜기 파운드 마아가린</td>\n",
       "      <td>22</td>\n",
       "    </tr>\n",
       "    <tr>\n",
       "      <th>44</th>\n",
       "      <td>델몬트 스퀴즈 포도에이드</td>\n",
       "      <td>19</td>\n",
       "    </tr>\n",
       "    <tr>\n",
       "      <th>45</th>\n",
       "      <td>오뚜기 참치캔</td>\n",
       "      <td>24</td>\n",
       "    </tr>\n",
       "    <tr>\n",
       "      <th>46</th>\n",
       "      <td>완주 쑥떡 쑥인절미 맛있는 아침식사대용 쑥개떡 현미 영양떡 다이어트 단체 개별포장떡</td>\n",
       "      <td>24</td>\n",
       "    </tr>\n",
       "    <tr>\n",
       "      <th>47</th>\n",
       "      <td>자일로스설탕12</td>\n",
       "      <td>24</td>\n",
       "    </tr>\n",
       "    <tr>\n",
       "      <th>48</th>\n",
       "      <td>비앤지 맥주 술 해바라기씨 안주</td>\n",
       "      <td>16</td>\n",
       "    </tr>\n",
       "    <tr>\n",
       "      <th>49</th>\n",
       "      <td>CJ햇반</td>\n",
       "      <td>24</td>\n",
       "    </tr>\n",
       "  </tbody>\n",
       "</table>\n",
       "</div>"
      ],
      "text/plain": [
       "                                                식품  종류\n",
       "0                                       제과 해태제과 해태  23\n",
       "1                                    디저뜨와 브라우니 타르트  24\n",
       "2                                         소화가잘되는우유  22\n",
       "3                                       종가집 백열무물김치  18\n",
       "4                                   밀가루 곰표 포대 고급 g  24\n",
       "5                             매일 뼈로가는 고칼슘두유밥대용음료 밥  22\n",
       "6                     동원 양반죽양반김 도시락김 8매단팥 쇠고기 야채 참  11\n",
       "7                                대용량 식자재 701양조간장12  24\n",
       "8                               트로피카나 오렌지 주스2 코스트코  19\n",
       "9                                     set 호로록 버터칼   22\n",
       "10                        오뚜기 오뚜기 리얼치즈라면 간식용라면 맛있는  24\n",
       "11                                    순천만 함초자염소금    24\n",
       "12                               스테비아 효소설탕  에리스리톨   24\n",
       "13                           CF57농심 백산수 음료수도매20PET  19\n",
       "14                                     알찬마루 숙성썰은김치  18\n",
       "15                           레이지 레몬즙  레몬농축액 레몬원액 레  19\n",
       "16                                         고등어캔삼포4  24\n",
       "17                           말통  매콤한맛 양념 쉐프원 소스 치킨  24\n",
       "18                            맥반석 단백질 식품 훈제 구운 계란    3\n",
       "19                                    등니노 신선한 두유피   24\n",
       "20                                  식당 업소 식재료 고춧가루  24\n",
       "21                                            맛소금   24\n",
       "22                       안동참마돼지 무항생제 암돼지 1+등급 앞다리살   0\n",
       "23                         아폴로   옛날과자 추억의과자 문방구 간식  23\n",
       "24                                  1+1오뚜기 옛날자른당면   24\n",
       "25                                          망미치즈케익  24\n",
       "26                             신라면 신라면블랙사발 두부김치16   24\n",
       "27                     브렐렛 모짜렐라 -카우20.11.7일 유통기한냉장  22\n",
       "28                                 식재료 첵스초코시리얼켈로그   24\n",
       "29                        메밀국수  식자재 업소용 음식점 재료 식당5  24\n",
       "30                           Organic 히에즐넛 버터 8 oz   22\n",
       "31                               맛있다고 소문난 꿀당도 산사과   14\n",
       "32                                    도토리 책 도서 민음사  16\n",
       "33                               집에서 길러먹는 국산 콩나물콩   13\n",
       "34                            CJ 제일제당 백설 스팸 클래식     24\n",
       "35                         청정원 집으로ON 수비드 닭가슴살 허브갈릭  24\n",
       "36                                  틈밀베이커리비건 카카오스콘  23\n",
       "37                   비건 냉동 삼육김치가마솥직화볶음밥  SD 2A6E16  24\n",
       "38                                        모노링크 멘보샤  11\n",
       "39               무청시래기 국내산  삶은 무우청 시래기 효능 요리 양구시래기  15\n",
       "40                              영자마켓오뚜기 옥수수 마아가린    22\n",
       "41                         국수 담백한 맛의 웰빙 2 도토리  먹거리  24\n",
       "42                                       안심반찬바지락젓    8\n",
       "43                         위드코리a1019오뚜기 파운드 마아가린    22\n",
       "44                                 델몬트 스퀴즈 포도에이드    19\n",
       "45                                        오뚜기 참치캔   24\n",
       "46  완주 쑥떡 쑥인절미 맛있는 아침식사대용 쑥개떡 현미 영양떡 다이어트 단체 개별포장떡  24\n",
       "47                                        자일로스설탕12  24\n",
       "48                             비앤지 맥주 술 해바라기씨 안주    16\n",
       "49                                           CJ햇반　  24"
      ]
     },
     "execution_count": 35,
     "metadata": {},
     "output_type": "execute_result"
    }
   ],
   "source": [
    "data[0:50]"
   ]
  },
  {
   "cell_type": "code",
   "execution_count": 36,
   "metadata": {},
   "outputs": [
    {
     "data": {
      "text/plain": [
       "(270887, 25)"
      ]
     },
     "execution_count": 36,
     "metadata": {},
     "output_type": "execute_result"
    }
   ],
   "source": [
    "data['식품'].nunique(), data['종류'].nunique()\n"
   ]
  },
  {
   "cell_type": "code",
   "execution_count": 37,
   "metadata": {},
   "outputs": [
    {
     "name": "stdout",
     "output_type": "stream",
     "text": [
      "[23 24 22 18 11 19  3  0 14 16 13 15  8 10  1  4 21  7 17  9 12  5 20  2\n",
      "  6]\n"
     ]
    }
   ],
   "source": [
    "print(data['종류'].unique())"
   ]
  },
  {
   "cell_type": "code",
   "execution_count": 38,
   "metadata": {},
   "outputs": [],
   "source": [
    "data.drop_duplicates(subset=['식품'], inplace=True)"
   ]
  },
  {
   "cell_type": "code",
   "execution_count": 39,
   "metadata": {},
   "outputs": [
    {
     "name": "stdout",
     "output_type": "stream",
     "text": [
      "총 샘플의 수 : 270887\n"
     ]
    }
   ],
   "source": [
    "print('총 샘플의 수 :',len(data))"
   ]
  },
  {
   "cell_type": "code",
   "execution_count": 40,
   "metadata": {},
   "outputs": [
    {
     "data": {
      "image/png": "[encoded data removed]",
      "text/plain": [
       "<Figure size 432x288 with 1 Axes>"
      ]
     },
     "metadata": {
      "needs_background": "light"
     },
     "output_type": "display_data"
    }
   ],
   "source": [
    "data['종류'].value_counts().plot(kind='bar');"
   ]
  },
  {
   "cell_type": "code",
   "execution_count": 41,
   "metadata": {},
   "outputs": [
    {
     "name": "stdout",
     "output_type": "stream",
     "text": [
      "식품의 개수: 270887\n",
      "종류의 개수: 270887\n"
     ]
    }
   ],
   "source": [
    "X_data = data['식품']\n",
    "y_data = data['종류']\n",
    "print('식품의 개수: {}'.format(len(X_data)))\n",
    "print('종류의 개수: {}'.format(len(y_data)))"
   ]
  },
  {
   "cell_type": "code",
   "execution_count": 42,
   "metadata": {},
   "outputs": [
    {
     "name": "stdout",
     "output_type": "stream",
     "text": [
      "169999\n"
     ]
    }
   ],
   "source": [
    "tokenizer = Tokenizer()\n",
    "tokenizer.fit_on_texts(X_data) # 행을 가진 X의 각 행에 토큰화를 수행\n",
    "sequences = tokenizer.texts_to_sequences(X_data) # 단어를 숫자값, 인덱스로 변환하여 저장\n",
    "word_to_index = tokenizer.word_index\n",
    "#print(word_to_index)\n",
    "# print(type(tokenizer))\n",
    "X_data = sequences\n",
    "print(len(word_to_index))\n",
    "# print(type(word_to_index))"
   ]
  },
  {
   "cell_type": "code",
   "execution_count": 1002,
   "metadata": {},
   "outputs": [
    {
     "name": "stdout",
     "output_type": "stream",
     "text": [
      "상품이름의 최대 길이 : 31\n",
      "상품이름의 평균 길이 : 4.761971\n"
     ]
    },
    {
     "data": {
      "image/png": "[encoded data removed]",
      "text/plain": [
       "<Figure size 432x288 with 1 Axes>"
      ]
     },
     "metadata": {
      "needs_background": "light"
     },
     "output_type": "display_data"
    }
   ],
   "source": [
    "# 최대 길이, 가식화\n",
    "print('상품이름의 최대 길이 : %d' % max(len(l) for l in X_data))\n",
    "print('상품이름의 평균 길이 : %f' % (sum(map(len, X_data))/len(X_data)))\n",
    "plt.hist([len(s) for s in X_data], bins=50)\n",
    "plt.xlabel('length of samples')\n",
    "plt.ylabel('number of samples')\n",
    "plt.show()"
   ]
  },
  {
   "cell_type": "code",
   "execution_count": 1003,
   "metadata": {},
   "outputs": [
    {
     "name": "stdout",
     "output_type": "stream",
     "text": [
      "단어 집합의 크기: 170000\n"
     ]
    }
   ],
   "source": [
    "vocab_size = len(word_to_index) + 1\n",
    "print('단어 집합의 크기: {}'.format((vocab_size)))"
   ]
  },
  {
   "cell_type": "code",
   "execution_count": 1006,
   "metadata": {},
   "outputs": [
    {
     "name": "stdout",
     "output_type": "stream",
     "text": [
      "훈련 데이터의 개수 : 230253\n",
      "테스트 데이터의 개수: 40634\n"
     ]
    }
   ],
   "source": [
    "# 80% 는 학습 20%는 테스트\n",
    "n_of_train = int(len(sequences) * 0.85)\n",
    "n_of_test = int(len(sequences) - n_of_train)\n",
    "print('훈련 데이터의 개수 :',n_of_train)\n",
    "print('테스트 데이터의 개수:',n_of_test)"
   ]
  },
  {
   "cell_type": "code",
   "execution_count": 1007,
   "metadata": {},
   "outputs": [
    {
     "name": "stdout",
     "output_type": "stream",
     "text": [
      "훈련 데이터의 크기(shape):  (270887, 31)\n"
     ]
    }
   ],
   "source": [
    "max_len = 31\n",
    "# 전체 데이터셋의 길이는 max_len으로 맞춥니다 (그이상은 안넘어가므로)\n",
    "data = pad_sequences(X_data, maxlen = max_len)\n",
    "print(\"훈련 데이터의 크기(shape): \", data.shape)"
   ]
  },
  {
   "cell_type": "code",
   "execution_count": 1008,
   "metadata": {},
   "outputs": [],
   "source": [
    "X_test = data[n_of_train:] #X_data 데이터 중에서 뒤의 20%의 데이터만 저장\n",
    "y_test = np.array(y_data[n_of_train:]) #y_data 데이터 중에서 뒤의 20%의 데이터만 저장\n",
    "X_train = data[:n_of_train] #X_data 데이터 중에서 앞의 80%의 데이터만 저장\n",
    "y_train = np.array(y_data[:n_of_train]) #y_data 데이터 중에서 앞의 80%의 데이터만 저장"
   ]
  },
  {
   "cell_type": "code",
   "execution_count": 1009,
   "metadata": {},
   "outputs": [],
   "source": [
    "# to_categorical 함수는 입력받은 (n) 크기의 1차원 정수 배열을 (n, k) 크기의 2차원 배열로 변경\n",
    "y_train = to_categorical(y_train) # 훈련용 뉴스 기사 레이블 \n",
    "y_test = to_categorical(y_test) # 테스트용 뉴스 기사 레이블"
   ]
  },
  {
   "cell_type": "code",
   "execution_count": 1010,
   "metadata": {},
   "outputs": [],
   "source": [
    "model = Sequential()\n",
    "#  Embedding()을 사용하여 임베딩 층(embedding layer)을 추가\n",
    "# 단어 집합의 크기, 임베딩 벡터의 차원\n",
    "model.add(Embedding(vocab_size, 120))\n",
    "#  LSTM 셀로 이루어진 layer 추가\n",
    "#  RNN 알고리즘 의 단점을 보완 LSTM\n",
    "model.add(LSTM(120))\n",
    "\n",
    "# Softmax(소프트맥스)는 입력받은 값을 출력으로 0~1사이의 값으로 모두 정규화하며 출력 값들의 총합은 항상 1이 되는 특성을 가진 함수이다.\n",
    "model.add(Dense(25, activation='softmax'))"
   ]
  },
  {
   "cell_type": "code",
   "execution_count": 1011,
   "metadata": {},
   "outputs": [],
   "source": [
    "# loss 직접적으로 줄이고자 하는 값(손실함수)\n",
    "# loss가 특정 이하면 EarlyStopping\n",
    "es = EarlyStopping(monitor='val_loss', mode='min', verbose=1, patience=4)\n",
    "# 중간중간에 콜백 형태로 진행사항 여부 확인 시켜주는 듯\n",
    "mc = ModelCheckpoint('best_model.h5', monitor='val_acc', mode='max', verbose=1, save_best_only=True)"
   ]
  },
  {
   "cell_type": "code",
   "execution_count": 1012,
   "metadata": {},
   "outputs": [],
   "source": [
    "# 최적화 알고리즘 adam을 사용한다\n",
    "# metric 얼마나 잘했는지 에 대한 척도\n",
    "# categorical_crossentropy : 네트워크(신경망)가 출력한 확률 분포와 진짜 레이블의 분포 사이의 거리(가까워야 좋은듯)\n",
    "model.compile(loss='categorical_crossentropy', optimizer='adam', metrics=['acc'])"
   ]
  },
  {
   "cell_type": "code",
   "execution_count": 1013,
   "metadata": {},
   "outputs": [
    {
     "name": "stdout",
     "output_type": "stream",
     "text": [
      "Epoch 1/30\n",
      "1799/1799 [==============================] - ETA: 0s - loss: 0.8162 - acc: 0.7880\n",
      "Epoch 00001: val_acc improved from -inf to 0.88894, saving model to best_model.h5\n",
      "1799/1799 [==============================] - 393s 219ms/step - loss: 0.8162 - acc: 0.7880 - val_loss: 0.4231 - val_acc: 0.8889\n",
      "Epoch 2/30\n",
      "1799/1799 [==============================] - ETA: 0s - loss: 0.1692 - acc: 0.9578\n",
      "Epoch 00002: val_acc improved from 0.88894 to 0.89797, saving model to best_model.h5\n",
      "1799/1799 [==============================] - 397s 221ms/step - loss: 0.1692 - acc: 0.9578 - val_loss: 0.4038 - val_acc: 0.8980\n",
      "Epoch 3/30\n",
      "1799/1799 [==============================] - ETA: 0s - loss: 0.0688 - acc: 0.9807\n",
      "Epoch 00003: val_acc did not improve from 0.89797\n",
      "1799/1799 [==============================] - 396s 220ms/step - loss: 0.0688 - acc: 0.9807 - val_loss: 0.4359 - val_acc: 0.8926\n",
      "Epoch 4/30\n",
      "1799/1799 [==============================] - ETA: 0s - loss: 0.0460 - acc: 0.9861\n",
      "Epoch 00004: val_acc did not improve from 0.89797\n",
      "1799/1799 [==============================] - 401s 223ms/step - loss: 0.0460 - acc: 0.9861 - val_loss: 0.4735 - val_acc: 0.8917\n",
      "Epoch 5/30\n",
      "1799/1799 [==============================] - ETA: 0s - loss: 0.0343 - acc: 0.9891\n",
      "Epoch 00005: val_acc did not improve from 0.89797\n",
      "1799/1799 [==============================] - 398s 221ms/step - loss: 0.0343 - acc: 0.9891 - val_loss: 0.4933 - val_acc: 0.8887\n",
      "Epoch 6/30\n",
      "1799/1799 [==============================] - ETA: 0s - loss: 0.0266 - acc: 0.9912\n",
      "Epoch 00006: val_acc did not improve from 0.89797\n",
      "1799/1799 [==============================] - 396s 220ms/step - loss: 0.0266 - acc: 0.9912 - val_loss: 0.5439 - val_acc: 0.8863\n",
      "Epoch 00006: early stopping\n"
     ]
    }
   ],
   "source": [
    "history = model.fit(X_train, y_train, batch_size=128, epochs=30, callbacks=[es, mc], validation_data=(X_test, y_test))"
   ]
  },
  {
   "cell_type": "code",
   "execution_count": 923,
   "metadata": {},
   "outputs": [
    {
     "data": {
      "image/png": "[encoded data removed]",
      "text/plain": [
       "<Figure size 432x288 with 1 Axes>"
      ]
     },
     "metadata": {
      "needs_background": "light"
     },
     "output_type": "display_data"
    }
   ],
   "source": [
    "epochs = range(1, len(history.history['acc']) + 1)\n",
    "plt.plot(epochs, history.history['loss'])\n",
    "plt.plot(epochs, history.history['val_loss'])\n",
    "plt.title('model loss')\n",
    "plt.ylabel('loss')\n",
    "plt.xlabel('epoch')\n",
    "plt.legend(['train', 'test'], loc='upper left')\n",
    "plt.show()"
   ]
  },
  {
   "cell_type": "code",
   "execution_count": 792,
   "metadata": {},
   "outputs": [
    {
     "name": "stdout",
     "output_type": "stream",
     "text": [
      "[[102, 937]]\n",
      "[[1.1241159e-02 1.0513966e-04 1.7286354e-03 9.0664768e-01 7.3517263e-02\n",
      "  4.4767981e-04 9.2825430e-05 1.9519763e-04 6.4559461e-04 7.6772099e-05\n",
      "  6.3676963e-04 6.2282584e-06 8.6081373e-06 8.8194321e-07 4.4199242e-05\n",
      "  8.9935993e-06 3.6174008e-03 2.6806458e-05 8.7128353e-07 9.0181077e-04\n",
      "  3.4810466e-05 1.4735701e-05]]\n",
      "알류\n",
      "0.9066477\n"
     ]
    }
   ],
   "source": [
    "sl = [\"계란 소세지\"]\n",
    "#tokenizer.fit_on_texts(sl)\n",
    "t = tokenizer.texts_to_sequences(sl) # 단어를 숫자값, 인덱스로 변환하여 저장\n",
    "\n",
    "\n",
    "word_to_index = tokenizer.word_index\n",
    "print(t)\n",
    "print(model.predict(t))\n",
    "index, value = max(enumerate(model.predict(t)[0]), key=operator.itemgetter(1))\n",
    "f_list = ['돼지고기', '쇠고기', '닭고기', '알류', '축산가공식품', '생선', '김/해초','해산물/어패류']\n",
    "print(f_list[index])\n",
    "print(value)\n",
    "# 돼지고기', '쇠고기', '닭고기', '알류', '축산가공식품', '생선', '김/해초','해산물/어패류'"
   ]
  },
  {
   "cell_type": "code",
   "execution_count": 790,
   "metadata": {},
   "outputs": [
    {
     "name": "stdout",
     "output_type": "stream",
     "text": [
      "INFO:tensorflow:Assets written to: C:/ssafy/test1/real/modeltest\\assets\n"
     ]
    }
   ],
   "source": [
    "model.save('C:/ssafy/test1/real/modeltest')"
   ]
  },
  {
   "cell_type": "code",
   "execution_count": 530,
   "metadata": {},
   "outputs": [],
   "source": [
    "new_model = load_model('C:/ssafy/test1/modeltest')\n"
   ]
  },
  {
   "cell_type": "code",
   "execution_count": 32,
   "metadata": {},
   "outputs": [
    {
     "data": {
      "text/plain": [
       "array([[0.23407474, 0.6480626 , 0.0612158 , 0.0566469 ]], dtype=float32)"
      ]
     },
     "execution_count": 32,
     "metadata": {},
     "output_type": "execute_result"
    }
   ],
   "source": [
    "new_model.predict(t)"
   ]
  },
  {
   "cell_type": "code",
   "execution_count": 135,
   "metadata": {},
   "outputs": [],
   "source": [
    "file.close()"
   ]
  },
  {
   "cell_type": "code",
   "execution_count": 1014,
   "metadata": {},
   "outputs": [],
   "source": [
    "import pickle\n",
    "\n",
    "# saving\n",
    "with open('tokenizer.pickle', 'wb') as handle:\n",
    "    pickle.dump(tokenizer, handle, protocol=4)"
   ]
  },
  {
   "cell_type": "code",
   "execution_count": 796,
   "metadata": {},
   "outputs": [],
   "source": [
    "model.save('best.h5')"
   ]
  },
  {
   "cell_type": "code",
   "execution_count": null,
   "metadata": {},
   "outputs": [],
   "source": []
  }
 ],
 "metadata": {
  "kernelspec": {
   "display_name": "Python 3",
   "language": "python",
   "name": "python3"
  },
  "language_info": {
   "codemirror_mode": {
    "name": "ipython",
    "version": 3
   },
   "file_extension": ".py",
   "mimetype": "text/x-python",
   "name": "python",
   "nbconvert_exporter": "python",
   "pygments_lexer": "ipython3",
   "version": "3.8.3"
  }
 },
 "nbformat": 4,
 "nbformat_minor": 4
}
