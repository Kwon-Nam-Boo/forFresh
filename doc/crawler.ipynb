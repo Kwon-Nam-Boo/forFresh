{
 "cells": [
  {
   "cell_type": "code",
   "execution_count": 49,
   "metadata": {},
   "outputs": [
    {
     "name": "stderr",
     "output_type": "stream",
     "text": [
      "100%|████████████████████████████████████████████████████████████████████████████████████| 1/1 [00:00<00:00,  1.20it/s]\n",
      "100%|████████████████████████████████████████████████████████████████████████████████████| 1/1 [00:01<00:00,  1.02s/it]\n",
      "100%|████████████████████████████████████████████████████████████████████████████████████| 1/1 [00:00<00:00,  1.51it/s]\n",
      "100%|████████████████████████████████████████████████████████████████████████████████████| 1/1 [00:00<00:00,  1.37it/s]"
     ]
    },
    {
     "name": "stdout",
     "output_type": "stream",
     "text": [
      "done\n"
     ]
    },
    {
     "name": "stderr",
     "output_type": "stream",
     "text": [
      "\n"
     ]
    }
   ],
   "source": [
    "import requests\n",
    "import json\n",
    "import re\n",
    "import time\n",
    "import pandas as pd\n",
    "import os\n",
    "from tqdm import tqdm\n",
    "from urllib.request import urlopen\n",
    "from bs4 import BeautifulSoup\n",
    "\n",
    "\n",
    "\n",
    "# URL 로 데이터 받아오기\n",
    "def crwal(foodCode, pageNum):\n",
    "    url = \"https://search.shopping.naver.com/search/category?catId=\"+ str(foodCode) +\"&pagingIndex=\" + str(pageNum)\n",
    "    html = urlopen(url)\n",
    "    return html\n",
    "foodList = ['라면','통조림','즉석밥','간편조리식']\n",
    "# ,'알류', '축산가공', '생선', '김_해초', '해산물', '젓갈','건어물'\n",
    "foodCode = [50001083,50001882,50001891,50001894]\n",
    "# , 50001173, 50001174 ,50001175,50001176,50001049,50001050, \n",
    "\n",
    "# 문자열에서 데이터 뽑기\n",
    "def parse(pageString):\n",
    "    bsObj = BeautifulSoup(pageString, \"html5lib\")\n",
    "    script = bsObj.find(\"script\", {\"id\":\"__NEXT_DATA__\"}).text\n",
    "    json_data = json.loads(script)\n",
    "    \n",
    "    for j in json_data['props']['pageProps']['initialState']['products']['list']:\n",
    "        #print(j)\n",
    "        productList = []\n",
    "        productList.append(j[\"item\"][\"category3Name\"])\n",
    "        content_text = re.sub(r'\\([^)]*\\)', '', j[\"item\"][\"productTitle\"])\n",
    "        productList.append(content_text)\n",
    "        productList.append(j[\"item\"][\"lowPrice\"])\n",
    "        productList.append(j[\"item\"][\"imageUrl\"])\n",
    "        list.append(productList)\n",
    "\n",
    "    return []\n",
    "\n",
    "for i,y in enumerate(foodCode):\n",
    "    list =[]\n",
    "    for x in tqdm(range(0, 1)):\n",
    "        pageString = crwal(y,x)\n",
    "        products = parse(pageString)\n",
    "        dataframe = pd.DataFrame(list)\n",
    "        csvName = foodList[i]\n",
    "        dataframe.to_csv('C:/ssafy/test1/판매상품/'+ csvName +'.csv',encoding='utf-8-sig',header=False,index =False)      \n",
    "print(\"done\")"
   ]
  },
  {
   "cell_type": "code",
   "execution_count": 166,
   "metadata": {},
   "outputs": [
    {
     "name": "stdout",
     "output_type": "stream",
     "text": [
      "46\n"
     ]
    }
   ],
   "source": [
    "print(len(list))\n"
   ]
  }
 ],
 "metadata": {
  "kernelspec": {
   "display_name": "Python 3",
   "language": "python",
   "name": "python3"
  },
  "language_info": {
   "codemirror_mode": {
    "name": "ipython",
    "version": 3
   },
   "file_extension": ".py",
   "mimetype": "text/x-python",
   "name": "python",
   "nbconvert_exporter": "python",
   "pygments_lexer": "ipython3",
   "version": "3.8.3"
  }
 },
 "nbformat": 4,
 "nbformat_minor": 4
}
